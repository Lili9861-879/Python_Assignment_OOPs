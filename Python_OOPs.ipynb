{
  "nbformat": 4,
  "nbformat_minor": 0,
  "metadata": {
    "colab": {
      "provenance": []
    },
    "kernelspec": {
      "name": "python3",
      "display_name": "Python 3"
    },
    "language_info": {
      "name": "python"
    }
  },
  "cells": [
    {
      "cell_type": "code",
      "execution_count": null,
      "metadata": {
        "id": "UHLfl4Z9pBek"
      },
      "outputs": [],
      "source": []
    },
    {
      "cell_type": "markdown",
      "source": [
        "# Theory Questions"
      ],
      "metadata": {
        "id": "L9Kv5pBUpQlZ"
      }
    },
    {
      "cell_type": "markdown",
      "source": [
        "**1.What is Object-Oriented Programming (OOP)?**\n",
        "\n",
        "Object-Oriented Programming (OOP) is a programming paradigm based on the concept of “objects” which can contain data (attributes) and code (methods).\n",
        "\n",
        " OOP helps in structuring complex programs, making them more reusable, modular, and easier to maintain.\n",
        "\n",
        "**2.What is a class in OOP?**\n",
        "\n",
        "A class is a blueprint or template for creating objects.\n",
        "\n",
        "It defines a set of attributes and methods that the created objects will have.\n",
        "\n",
        "**3.What is an object in OOP?**\n",
        "\n",
        "An object is an instance of a class.\n",
        "\n",
        "It represents a real-world entity and has its own data and behavior defined by the class.\n",
        "\n",
        "**4.What is the difference between abstraction and encapsulation?**\n",
        "\n",
        "Abstraction hides complex implementation details and shows only the necessary features.\n",
        "\n",
        "\n",
        "Encapsulation binds data and functions together and restricts direct access to some of the object's components.\n",
        "\n",
        "\n",
        "**5.What are dunder methods in Python?**\n",
        "\n",
        "Dunder methods (also called magic methods) are special methods with double underscores before and after their names (like __init__, __str__, __len__).\n",
        "\n",
        "They enable custom behavior for built-in functions and operators.\n",
        "\n",
        "**6.Explain the concept of inheritance in OOP.**\n",
        "\n",
        "\n",
        "Inheritance allows a class (child) to acquire properties and methods of another class (parent), promoting code reusability.\n",
        "\n",
        "\n",
        "**7.What is polymorphism in OOP?**\n",
        "\n",
        "Polymorphism allows objects of different classes to be treated as objects of a common super class.\n",
        "\n",
        "It enables one interface to be used for different underlying forms (data types).\n",
        "\n",
        "**8.How is encapsulation achieved in Python?**\n",
        "\n",
        "Encapsulation in Python is achieved using access modifiers:\n",
        "\n",
        "\n",
        "Public: accessible everywhere\n",
        "\n",
        "\n",
        "Protected (_): accessible in class and subclasses\n",
        "\n",
        "\n",
        "Private (__): accessible only within the class\n",
        "\n",
        "\n",
        "**9.What is a constructor in Python?**\n",
        "\n",
        "A constructor is a special method (__init__) that is automatically called when an object is created.\n",
        "\n",
        "It initializes the object's attributes.\n",
        "\n",
        "**10.What are class and static methods in Python?**\n",
        "\n",
        "Class method: Defined with @classmethod, takes cls as the first argument and works with class variables.\n",
        "\n",
        "\n",
        "Static method: Defined with @staticmethod, does not take self or cls, and behaves like a regular function inside a class.\n",
        "\n",
        "**11.What is method overloading in Python?**\n",
        "\n",
        "Python does not support traditional method overloading. It can be simulated by using default arguments or variable-length arguments (*args, **kwargs).\n",
        "\n",
        "**12.What is method overriding in OOP?**\n",
        "\n",
        "Method overriding allows a subclass to provide a specific implementation of a method that is already defined in its superclass.\n",
        "\n",
        "**13.What is a property decorator in Python?**\n",
        "\n",
        "The @property decorator allows you to define methods that can be accessed like attributes, helping with encapsulation.\n",
        "\n",
        "**14.Why is polymorphism important in OOP?**\n",
        "\n",
        "\n",
        "Polymorphism increases flexibility and reusability of code.\n",
        "\n",
        "It allows objects to be treated as instances of their parent class, enabling generic code that works on different types.\n",
        "\n",
        "**15.What is an abstract class in Python?**\n",
        "\n",
        "An abstract class is a class that cannot be instantiated.\n",
        "\n",
        "It is defined using the abc module and contains one or more abstract methods that must be implemented in derived classes.\n",
        "\n",
        "**16.What are the advantages of OOP?**\n",
        "\n",
        "Code reusability\n",
        "\n",
        "\n",
        "Modularity\n",
        "\n",
        "\n",
        "Easy to maintain and debug\n",
        "\n",
        "\n",
        "Flexibility through polymorphism\n",
        "\n",
        "\n",
        "Improved productivity through abstraction and encapsulation\n",
        "\n",
        "\n",
        "**17.What is the difference between a class variable and an instance variable?**\n",
        "\n",
        "Class variable: Shared among all instances of a class.\n",
        "\n",
        "Instance variable: Unique to each instance.\n",
        "\n",
        "**18.What is multiple inheritance in Python?**\n",
        "\n",
        "Multiple inheritance allows a class to inherit from more than one parent class. Python supports it using method resolution order (MRO).\n",
        "\n",
        "**19.Explain the purpose of __str__ and __repr__ methods in Python.**\n",
        "\n",
        "__str__: Returns a user-friendly string representation of an object.\n",
        "\n",
        "__repr__: Returns a developer-friendly representation, often used for debugging.\n",
        "\n",
        "**20.What is the significance of the super() function in Python?**\n",
        "\n",
        "super() is used to call methods from a parent class.\n",
        "\n",
        "It helps in accessing inherited methods and constructors without explicitly naming the parent class.\n",
        "\n",
        "**21.What is the significance of the __del__ method in Python?**\n",
        "\n",
        "\n",
        "__del__ is a destructor method called when an object is about to be destroyed. It is used for cleanup actions.\n",
        "\n",
        "**22.What is the difference between @staticmethod and @classmethod in Python?**\n",
        "\n",
        "@staticmethod does not take self or cls. It’s a utility function inside a class.\n",
        "\n",
        "\n",
        "@classmethod takes cls and can modify class-level state.\n",
        "\n",
        "\n",
        "**23.How does polymorphism work in Python with inheritance?**\n",
        "\n",
        "In inheritance, polymorphism works when a subclass overrides a parent class method, and the overridden method is called through a reference of the parent class.\n",
        "\n",
        "**24.What is method chaining in Python OOP?**\n",
        "\n",
        "Method chaining allows calling multiple methods on the same object in a single line, by returning self from each method.\n",
        "\n",
        "Example:\n",
        "\n",
        "python\n",
        "\n",
        "Copy\n",
        "\n",
        "Edit\n",
        "\n",
        "obj.set_name(\"John\").set_age(25)\n",
        "\n",
        "**25.What is the purpose of the __call__ method in Python?**\n",
        "\n",
        "The __call__ method allows an object to be called like a function.\n",
        "\n",
        "When defined, obj() calls obj.__call__().\n",
        "\n",
        "# Practical Questions\n",
        "\n",
        "**1.Create a parent class Animal with a method speak() that prints a generic message. Create a child class Dog that overrides the speak() method to print \"Bark\".**"
      ],
      "metadata": {
        "id": "5vOpxV4SpZBB"
      }
    },
    {
      "cell_type": "code",
      "source": [
        "class Animal:\n",
        "    def speak(self):\n",
        "        print(\"The animal makes a sound.\")\n",
        "\n",
        "class Dog(Animal):\n",
        "    def speak(self):\n",
        "        print(\"Bark\")\n",
        "\n"
      ],
      "metadata": {
        "colab": {
          "base_uri": "https://localhost:8080/"
        },
        "id": "irQUmr203gPh",
        "outputId": "599fe09e-8e8c-4c19-f3d7-b9f64f7a7a8f"
      },
      "execution_count": 1,
      "outputs": [
        {
          "output_type": "stream",
          "name": "stdout",
          "text": [
            "Bark\n"
          ]
        }
      ]
    },
    {
      "cell_type": "markdown",
      "source": [
        "**2.Write a program to create an abstract class Shape with a method area(). Derive classes Circle and Rectangle from it and implement the area() method in both.**"
      ],
      "metadata": {
        "id": "RLBfJ6RF3uhC"
      }
    },
    {
      "cell_type": "code",
      "source": [
        "from abc import ABC, abstractmethod\n",
        "\n",
        "class Shape(ABC):\n",
        "    @abstractmethod\n",
        "    def area(self):\n",
        "        pass\n",
        "\n",
        "class Circle(Shape):\n",
        "    def __init__(self, radius):\n",
        "        self.radius = radius\n",
        "\n",
        "    def area(self):\n",
        "        return 3.14 * self.radius * self.radius\n",
        "\n",
        "class Rectangle(Shape):\n",
        "    def __init__(self, width, height):\n",
        "        self.width = width\n",
        "        self.height = height\n",
        "\n",
        "    def area(self):\n",
        "        return self.width * self.height\n",
        "\n",
        "# Test cases\n",
        "c = Circle(5)\n",
        "print(\"Circle area:\", c.area())\n",
        "\n",
        "r = Rectangle(4, 6)\n",
        "print(\"Rectangle area:\", r.area())"
      ],
      "metadata": {
        "colab": {
          "base_uri": "https://localhost:8080/"
        },
        "id": "ezBrYkfF32LQ",
        "outputId": "57b7eda8-f116-4ce8-e42e-e3012e4bfa81"
      },
      "execution_count": 7,
      "outputs": [
        {
          "output_type": "stream",
          "name": "stdout",
          "text": [
            "Circle area: 78.5\n",
            "Rectangle area: 24\n"
          ]
        }
      ]
    },
    {
      "cell_type": "markdown",
      "source": [
        "**3.Implement a multi-level inheritance scenario where a class Vehicle has an attribute type. Derive a class Car and further derive a class ElectricCar that adds a battery attribute.**\n",
        "\n"
      ],
      "metadata": {
        "id": "btww5h946ruU"
      }
    },
    {
      "cell_type": "code",
      "source": [
        "class Vehicle:\n",
        "    def __init__(self, vehicle_type):\n",
        "        self.type = vehicle_type\n",
        "\n",
        "class Car(Vehicle):\n",
        "    def __init__(self, vehicle_type, brand):\n",
        "        super().__init__(vehicle_type)\n",
        "        self.brand = brand\n",
        "\n",
        "class ElectricCar(Car):\n",
        "    def __init__(self, vehicle_type, brand, battery):\n",
        "        super().__init__(vehicle_type, brand)\n",
        "        self.battery = battery\n",
        "\n",
        "\n",
        "ecar = ElectricCar(\"Electric\", \"Tesla\", \"85 kWh\")\n",
        "print(f\"Type: {ecar.type}, Brand: {ecar.brand}, Battery: {ecar.battery}\")\n"
      ],
      "metadata": {
        "colab": {
          "base_uri": "https://localhost:8080/"
        },
        "id": "u4mVJGlX60UN",
        "outputId": "a3f1379c-8ab0-48bf-acb5-ee728623d89f"
      },
      "execution_count": 23,
      "outputs": [
        {
          "output_type": "stream",
          "name": "stdout",
          "text": [
            "Type: Electric, Brand: Tesla, Battery: 85 kWh\n"
          ]
        }
      ]
    },
    {
      "cell_type": "markdown",
      "source": [
        "**4.Demonstrate polymorphism by creating a base class Bird with a method fly(). Create two derived classes Sparrow and Penguin that override the fly() method.**"
      ],
      "metadata": {
        "id": "lbZOWlev7qQ7"
      }
    },
    {
      "cell_type": "code",
      "source": [
        "class Bird:\n",
        "    def fly(self):\n",
        "        print(\"Some bird is flying\")\n",
        "\n",
        "class Sparrow(Bird):\n",
        "    def fly(self):\n",
        "        print(\"Sparrow flies high\")\n",
        "\n",
        "class Penguin(Bird):\n",
        "    def fly(self):\n",
        "        print(\"Penguins can't fly\")\n",
        "\n",
        "\n",
        "for bird in [Sparrow(), Penguin()]:\n",
        "    bird.fly()\n"
      ],
      "metadata": {
        "colab": {
          "base_uri": "https://localhost:8080/"
        },
        "id": "E5KWBTee8LQj",
        "outputId": "3c73131d-a78d-4f22-e296-e1b94711d812"
      },
      "execution_count": 22,
      "outputs": [
        {
          "output_type": "stream",
          "name": "stdout",
          "text": [
            "Sparrow flies high\n",
            "Penguins can't fly\n"
          ]
        }
      ]
    },
    {
      "cell_type": "markdown",
      "source": [
        "**5.Write a program to demonstrate encapsulation by creating a class BankAccount with private attributes balance and methods to deposit(), withdraw(), and check_balance().**"
      ],
      "metadata": {
        "id": "7acjd-Fe8edS"
      }
    },
    {
      "cell_type": "code",
      "source": [
        "class BankAccount:\n",
        "    def __init__(self):\n",
        "        self.__balance = 0\n",
        "\n",
        "    def deposit(self, amount):\n",
        "        self.__balance += amount\n",
        "\n",
        "    def withdraw(self, amount):\n",
        "        if amount <= self.__balance:\n",
        "            self.__balance -= amount\n",
        "        else:\n",
        "            print(\"Insufficient balance\")\n",
        "\n",
        "    def get_balance(self):\n",
        "        return self.__balance\n",
        "\n",
        "\n",
        "acc = BankAccount()\n",
        "acc.deposit(1000)\n",
        "acc.withdraw(500)\n",
        "print(\"Balance:\", acc.get_balance())\n"
      ],
      "metadata": {
        "colab": {
          "base_uri": "https://localhost:8080/"
        },
        "id": "XHvzkGCp8l18",
        "outputId": "1d742be6-e28c-40b9-e901-1d2b6254a0f9"
      },
      "execution_count": 21,
      "outputs": [
        {
          "output_type": "stream",
          "name": "stdout",
          "text": [
            "Balance: 500\n"
          ]
        }
      ]
    },
    {
      "cell_type": "markdown",
      "source": [
        "**6.Demonstrate runtime polymorphism using a method play() in a base class Instrument. Derive classes Guitar and Piano that implement their own version of play().**"
      ],
      "metadata": {
        "id": "ImjbpNzm8wP6"
      }
    },
    {
      "cell_type": "code",
      "source": [
        "class Instrument:\n",
        "    def play(self):\n",
        "        print(\"Playing instrument\")\n",
        "\n",
        "class Guitar(Instrument):\n",
        "    def play(self):\n",
        "        print(\"Strumming Guitar\")\n",
        "\n",
        "class Piano(Instrument):\n",
        "    def play(self):\n",
        "        print(\"Playing Piano\")\n",
        "\n",
        "\n",
        "for inst in [Guitar(), Piano()]:\n",
        "    inst.play()"
      ],
      "metadata": {
        "colab": {
          "base_uri": "https://localhost:8080/"
        },
        "id": "2TGrc1SO81ya",
        "outputId": "1b0c1c83-1b2e-42c6-be19-a2bb09db733c"
      },
      "execution_count": 20,
      "outputs": [
        {
          "output_type": "stream",
          "name": "stdout",
          "text": [
            "Strumming Guitar\n",
            "Playing Piano\n"
          ]
        }
      ]
    },
    {
      "cell_type": "markdown",
      "source": [
        "**7.Create a class MathOperations with a class method add_numbers() to add two numbers and a static method subtract_numbers() to subtract two numbers.**"
      ],
      "metadata": {
        "id": "Af-UqOWb9FYq"
      }
    },
    {
      "cell_type": "code",
      "source": [
        "class MathOperations:\n",
        "    @classmethod\n",
        "    def add_numbers(cls, a, b):\n",
        "        return a + b\n",
        "\n",
        "    @staticmethod\n",
        "    def subtract_numbers(a, b):\n",
        "        return a - b\n",
        "\n",
        "\n",
        "print(\"Addition:\", MathOperations.add_numbers(5, 3))\n",
        "print(\"Subtraction:\", MathOperations.subtract_numbers(10, 4))"
      ],
      "metadata": {
        "colab": {
          "base_uri": "https://localhost:8080/"
        },
        "id": "PpnmuIQg9MBy",
        "outputId": "9bd5b7c2-8ff0-4131-968a-0661eed387bb"
      },
      "execution_count": 19,
      "outputs": [
        {
          "output_type": "stream",
          "name": "stdout",
          "text": [
            "Addition: 8\n",
            "Subtraction: 6\n"
          ]
        }
      ]
    },
    {
      "cell_type": "markdown",
      "source": [],
      "metadata": {
        "id": "bh-MW4eO9X0Z"
      }
    },
    {
      "cell_type": "markdown",
      "source": [
        "**8.Implement a class Person with a class method to count the total number of persons created.**"
      ],
      "metadata": {
        "id": "4XCO2iLm-X4o"
      }
    },
    {
      "cell_type": "code",
      "source": [
        "class Person:\n",
        "    count = 0\n",
        "\n",
        "    def __init__(self, name):\n",
        "        self.name = name\n",
        "        Person.count += 1\n",
        "\n",
        "    @classmethod\n",
        "    def total_persons(cls):\n",
        "        return cls.count\n",
        "\n",
        "\n",
        "p1 = Person(\"Alice\")\n",
        "p2 = Person(\"Bob\")\n",
        "print(\"Total persons:\", Person.total_persons())"
      ],
      "metadata": {
        "colab": {
          "base_uri": "https://localhost:8080/"
        },
        "id": "cGaTpq5u-xaO",
        "outputId": "cc6b6d45-3a1b-4f48-ec10-753150f9db24"
      },
      "execution_count": 18,
      "outputs": [
        {
          "output_type": "stream",
          "name": "stdout",
          "text": [
            "Total persons: 2\n"
          ]
        }
      ]
    },
    {
      "cell_type": "markdown",
      "source": [
        "**9.Write a class Fraction with attributes numerator and denominator. Override the __str__ method to display the fraction as numerator/denominator.**"
      ],
      "metadata": {
        "id": "okZnEgpe-_WH"
      }
    },
    {
      "cell_type": "code",
      "source": [
        "class Fraction:\n",
        "    def __init__(self, numerator, denominator):\n",
        "        self.numerator = numerator\n",
        "        self.denominator = denominator\n",
        "\n",
        "    def __str__(self):\n",
        "        return f\"{self.numerator}/{self.denominator}\"\n",
        "\n",
        "\n",
        "f = Fraction(3, 4)\n",
        "print(\"Fraction:\", f)\n"
      ],
      "metadata": {
        "colab": {
          "base_uri": "https://localhost:8080/"
        },
        "id": "xqH8Ue6b_D1H",
        "outputId": "cc747121-b24e-4391-b1af-191a58cc717f"
      },
      "execution_count": 17,
      "outputs": [
        {
          "output_type": "stream",
          "name": "stdout",
          "text": [
            "Fraction: 3/4\n"
          ]
        }
      ]
    },
    {
      "cell_type": "markdown",
      "source": [
        "**9.Write a class Fraction with attributes numerator and denominator. Override the __str__ method to display the fraction as numerator/denominator.**"
      ],
      "metadata": {
        "id": "f0YQTNPe_YjG"
      }
    },
    {
      "cell_type": "code",
      "source": [
        "class Fraction:\n",
        "    def __init__(self, numerator, denominator):\n",
        "        self.numerator = numerator\n",
        "        self.denominator = denominator\n",
        "\n",
        "    def __str__(self):\n",
        "        return f\"{self.numerator}/{self.denominator}\"\n",
        "\n",
        "\n",
        "f = Fraction(3, 4)\n",
        "print(\"Fraction:\", f)"
      ],
      "metadata": {
        "colab": {
          "base_uri": "https://localhost:8080/"
        },
        "id": "wdlIhLGM_jcV",
        "outputId": "8c6be262-416a-4310-a01e-157e817f9234"
      },
      "execution_count": 24,
      "outputs": [
        {
          "output_type": "stream",
          "name": "stdout",
          "text": [
            "Fraction: 3/4\n"
          ]
        }
      ]
    },
    {
      "cell_type": "markdown",
      "source": [
        "**10.Demonstrate operator overloading by creating a class Vector and overriding the + operator to add two vectors.**"
      ],
      "metadata": {
        "id": "xpJwDfPC_pBm"
      }
    },
    {
      "cell_type": "code",
      "source": [
        "class Vector:\n",
        "    def __init__(self, x, y):\n",
        "        self.x = x\n",
        "        self.y = y\n",
        "\n",
        "    def __add__(self, other):\n",
        "        return Vector(self.x + other.x, self.y + other.y)\n",
        "\n",
        "    def __str__(self):\n",
        "        return f\"({self.x}, {self.y})\"\n",
        "\n",
        "\n",
        "v1 = Vector(2, 3)\n",
        "v2 = Vector(4, 5)\n",
        "print(\"Vector Sum:\", v1 + v2)"
      ],
      "metadata": {
        "colab": {
          "base_uri": "https://localhost:8080/"
        },
        "id": "nH5dL8BG_y_G",
        "outputId": "5b055f56-ca16-4497-a3f1-fb81f89aa0d1"
      },
      "execution_count": 25,
      "outputs": [
        {
          "output_type": "stream",
          "name": "stdout",
          "text": [
            "Vector Sum: (6, 8)\n"
          ]
        }
      ]
    },
    {
      "cell_type": "markdown",
      "source": [
        "**11.Create a class Person with attributes name and age. Add a method greet() that prints \"Hello, my name is [name] and I am [age] years old\".**\n",
        "\n"
      ],
      "metadata": {
        "id": "o9TmYhmz_9st"
      }
    },
    {
      "cell_type": "code",
      "source": [
        "class Person:\n",
        "    def __init__(self, name, age):\n",
        "        self.name = name\n",
        "        self.age = age\n",
        "\n",
        "    def greet(self):\n",
        "        print(f\"Hello, my name is {self.name} and I am {self.age} years old\")\n",
        "\n",
        "\n",
        "p = Person(\"Lilima\", 30)\n",
        "p.greet()"
      ],
      "metadata": {
        "colab": {
          "base_uri": "https://localhost:8080/"
        },
        "id": "qYUS234tAWe9",
        "outputId": "e243fc34-b5cb-4eba-cbe9-5c006c02bad5"
      },
      "execution_count": 27,
      "outputs": [
        {
          "output_type": "stream",
          "name": "stdout",
          "text": [
            "Hello, my name is Lilima and I am 30 years old\n"
          ]
        }
      ]
    },
    {
      "cell_type": "markdown",
      "source": [
        "**12.Implement a class Student with attributes name and grades. Create a method average_grade() to compute the average of the grades.**"
      ],
      "metadata": {
        "id": "uwLW2ciMAfbl"
      }
    },
    {
      "cell_type": "code",
      "source": [
        "class Student:\n",
        "    def __init__(self, name, grades):\n",
        "        self.name = name\n",
        "        self.grades = grades\n",
        "\n",
        "    def average_grade(self):\n",
        "        return sum(self.grades) / len(self.grades)\n",
        "\n",
        "\n",
        "s = Student(\"David\", [90, 80, 70])\n",
        "print(\"Average Grade:\", s.average_grade())"
      ],
      "metadata": {
        "colab": {
          "base_uri": "https://localhost:8080/"
        },
        "id": "kAcAcqLkAk2d",
        "outputId": "99bb18fe-b22a-4f02-f367-be37d5be1f6b"
      },
      "execution_count": 28,
      "outputs": [
        {
          "output_type": "stream",
          "name": "stdout",
          "text": [
            "Average Grade: 80.0\n"
          ]
        }
      ]
    },
    {
      "cell_type": "markdown",
      "source": [
        "**13.Create a class Rectangle with methods set_dimensions() to set the dimensions and area() to calculate the area.**"
      ],
      "metadata": {
        "id": "pUA_vDPbApht"
      }
    },
    {
      "cell_type": "code",
      "source": [
        "class Rectangle:\n",
        "    def set_dimensions(self, width, height):\n",
        "        self.width = width\n",
        "        self.height = height\n",
        "\n",
        "    def area(self):\n",
        "        return self.width * self.height\n",
        "\n",
        "r = Rectangle()\n",
        "r.set_dimensions(3, 7)\n",
        "print(\"Area:\", r.area())"
      ],
      "metadata": {
        "colab": {
          "base_uri": "https://localhost:8080/"
        },
        "id": "j5eKzV4CA3zF",
        "outputId": "e1f0637f-c964-4bd6-f74c-220971a8d616"
      },
      "execution_count": 29,
      "outputs": [
        {
          "output_type": "stream",
          "name": "stdout",
          "text": [
            "Area: 21\n"
          ]
        }
      ]
    },
    {
      "cell_type": "markdown",
      "source": [
        "**14.Create a class Employee with a method calculate_salary() that computes the salary based on hours worked and hourly rate. Create a derived class Manager that adds a bonus to the salary.**"
      ],
      "metadata": {
        "id": "ZeYAgpfmBf4L"
      }
    },
    {
      "cell_type": "code",
      "source": [
        "class Employee:\n",
        "    def calculate_salary(self, hours, rate):\n",
        "        return hours * rate\n",
        "\n",
        "class Manager(Employee):\n",
        "    def calculate_salary(self, hours, rate, bonus):\n",
        "        base = super().calculate_salary(hours, rate)\n",
        "        return base + bonus\n",
        "\n",
        "m = Manager()\n",
        "print(\"Manager Salary:\", m.calculate_salary(40, 50, 500))\n"
      ],
      "metadata": {
        "colab": {
          "base_uri": "https://localhost:8080/"
        },
        "id": "_UYchLQnBk7k",
        "outputId": "8062c048-79fb-4b52-e21c-41f5c698c66c"
      },
      "execution_count": 30,
      "outputs": [
        {
          "output_type": "stream",
          "name": "stdout",
          "text": [
            "Manager Salary: 2500\n"
          ]
        }
      ]
    },
    {
      "cell_type": "markdown",
      "source": [
        "**15.Create a class Product with attributes name, price, and quantity. Implement a method total_price() that calculates the total price of the product.**"
      ],
      "metadata": {
        "id": "WfxzhskJBqRU"
      }
    },
    {
      "cell_type": "code",
      "source": [
        "class Product:\n",
        "    def __init__(self, name, price, quantity):\n",
        "        self.name = name\n",
        "        self.price = price\n",
        "        self.quantity = quantity\n",
        "\n",
        "    def total_price(self):\n",
        "        return self.price * self.quantity\n",
        "\n",
        "\n",
        "p = Product(\"Pen\", 10, 5)\n",
        "print(\"Total Price:\", p.total_price())"
      ],
      "metadata": {
        "colab": {
          "base_uri": "https://localhost:8080/"
        },
        "id": "Aj9r6bNfBzk7",
        "outputId": "a30e8021-9fdd-497c-932f-dee820132412"
      },
      "execution_count": 31,
      "outputs": [
        {
          "output_type": "stream",
          "name": "stdout",
          "text": [
            "Total Price: 50\n"
          ]
        }
      ]
    },
    {
      "cell_type": "markdown",
      "source": [
        "**16.Create a class Animal with an abstract method sound(). Create two derived classes Cow and Sheep that implement the sound() method.**"
      ],
      "metadata": {
        "id": "GZ7XlirhB4Zc"
      }
    },
    {
      "cell_type": "code",
      "source": [
        "class Animal(ABC):\n",
        "    @abstractmethod\n",
        "    def sound(self):\n",
        "        pass\n",
        "\n",
        "class Cow(Animal):\n",
        "    def sound(self):\n",
        "        print(\"Moo\")\n",
        "\n",
        "class Sheep(Animal):\n",
        "    def sound(self):\n",
        "        print(\"Baa\")\n",
        "\n",
        "\n",
        "c = Cow()\n",
        "s = Sheep()\n",
        "c.sound()\n",
        "s.sound()"
      ],
      "metadata": {
        "colab": {
          "base_uri": "https://localhost:8080/"
        },
        "id": "9pirxUlPCHri",
        "outputId": "48ddc50c-ff05-4c79-8ab6-c218b7ec1d8f"
      },
      "execution_count": 32,
      "outputs": [
        {
          "output_type": "stream",
          "name": "stdout",
          "text": [
            "Moo\n",
            "Baa\n"
          ]
        }
      ]
    },
    {
      "cell_type": "markdown",
      "source": [
        "**17.Create a class Book with attributes title, author, and year_published. Add a method get_book_info() that returns a formatted string with the book's details.**"
      ],
      "metadata": {
        "id": "Oaj4Xa3-CT37"
      }
    },
    {
      "cell_type": "code",
      "source": [
        "class Book:\n",
        "    def __init__(self, title, author, year):\n",
        "        self.title = title\n",
        "        self.author = author\n",
        "        self.year = year\n",
        "\n",
        "    def get_book_info(self):\n",
        "        return f\"'{self.title}' by {self.author}, published in {self.year}\"\n",
        "\n",
        "b = Book(\"1984\", \"George Orwell\", 1949)\n",
        "print(b.get_book_info())\n"
      ],
      "metadata": {
        "colab": {
          "base_uri": "https://localhost:8080/"
        },
        "id": "hRFamHeXCZ8a",
        "outputId": "734a94e4-15a6-46f8-9670-e76a948287ca"
      },
      "execution_count": 33,
      "outputs": [
        {
          "output_type": "stream",
          "name": "stdout",
          "text": [
            "'1984' by George Orwell, published in 1949\n"
          ]
        }
      ]
    },
    {
      "cell_type": "markdown",
      "source": [
        "**18.Create a class House with attributes address and price. Create a derived class Mansion that adds an attribute number_of_rooms.**"
      ],
      "metadata": {
        "id": "CvwZOoNCCkNc"
      }
    },
    {
      "cell_type": "code",
      "source": [
        "class House:\n",
        "    def __init__(self, address, price):\n",
        "        self.address = address\n",
        "        self.price = price\n",
        "\n",
        "class Mansion(House):\n",
        "    def __init__(self, address, price, number_of_rooms):\n",
        "        super().__init__(address, price)\n",
        "        self.number_of_rooms = number_of_rooms\n",
        "\n",
        "\n",
        "m = Mansion(\"123 Lane\", 5000000, 10)\n",
        "print(f\"Address: {m.address}, Price: {m.price}, Rooms: {m.number_of_rooms}\")"
      ],
      "metadata": {
        "id": "wFYe0OmSCrUp",
        "outputId": "be45d8e8-6956-4ee6-aa9b-47252930731f",
        "colab": {
          "base_uri": "https://localhost:8080/"
        }
      },
      "execution_count": 34,
      "outputs": [
        {
          "output_type": "stream",
          "name": "stdout",
          "text": [
            "Address: 123 Lane, Price: 5000000, Rooms: 10\n"
          ]
        }
      ]
    }
  ]
}